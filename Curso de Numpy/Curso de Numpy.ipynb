{
 "cells": [
  {
   "cell_type": "markdown",
   "id": "443a5482-6d74-473b-a813-6bc44adf3740",
   "metadata": {},
   "source": [
    "# Criação de Vetores e Arrays em Numpy"
   ]
  },
  {
   "cell_type": "code",
   "execution_count": 3,
   "id": "c524a672-6f66-4872-aa77-433a7754eb57",
   "metadata": {},
   "outputs": [],
   "source": [
    "import numpy as np "
   ]
  },
  {
   "cell_type": "code",
   "execution_count": 6,
   "id": "6f760c81-8317-48fc-bc3e-c4d720a7feb6",
   "metadata": {},
   "outputs": [
    {
     "data": {
      "text/plain": [
       "<module 'numpy' from '/opt/anaconda3/lib/python3.12/site-packages/numpy/__init__.py'>"
      ]
     },
     "execution_count": 6,
     "metadata": {},
     "output_type": "execute_result"
    }
   ],
   "source": [
    "np"
   ]
  },
  {
   "cell_type": "code",
   "execution_count": 8,
   "id": "8283b0cd-856f-401a-84a9-413a39c73d66",
   "metadata": {},
   "outputs": [],
   "source": [
    "minha_lista = [1,2,3]"
   ]
  },
  {
   "cell_type": "code",
   "execution_count": 10,
   "id": "ce5fc891-3229-45ab-874c-52aa6ab509a2",
   "metadata": {},
   "outputs": [
    {
     "data": {
      "text/plain": [
       "array([1, 2, 3])"
      ]
     },
     "execution_count": 10,
     "metadata": {},
     "output_type": "execute_result"
    }
   ],
   "source": [
    "np.array(minha_lista)"
   ]
  },
  {
   "cell_type": "code",
   "execution_count": 12,
   "id": "7f7c2959-60c8-4adf-ae9e-6b8789fbfac7",
   "metadata": {},
   "outputs": [],
   "source": [
    "minha_matriz = [[1,2,3], [4,5,6]]"
   ]
  },
  {
   "cell_type": "code",
   "execution_count": 14,
   "id": "96040796-13b3-470b-8d52-c8270a04a101",
   "metadata": {},
   "outputs": [
    {
     "data": {
      "text/plain": [
       "array([[1, 2, 3],\n",
       "       [4, 5, 6]])"
      ]
     },
     "execution_count": 14,
     "metadata": {},
     "output_type": "execute_result"
    }
   ],
   "source": [
    "np.array(minha_matriz)"
   ]
  },
  {
   "cell_type": "code",
   "execution_count": 16,
   "id": "1141ba7e-f019-4347-b0c9-c9b08ef65c25",
   "metadata": {},
   "outputs": [
    {
     "data": {
      "text/plain": [
       "6"
      ]
     },
     "execution_count": 16,
     "metadata": {},
     "output_type": "execute_result"
    }
   ],
   "source": [
    "sum(minha_lista) # não funciona para matriz "
   ]
  },
  {
   "cell_type": "code",
   "execution_count": 18,
   "id": "8925b9f9-ca11-4057-8647-29a5735cdac0",
   "metadata": {},
   "outputs": [],
   "source": [
    "matriz_np = np.array(minha_matriz) "
   ]
  },
  {
   "cell_type": "code",
   "execution_count": 22,
   "id": "b1a4c1bc-863b-4a00-ba66-bf63216794e0",
   "metadata": {},
   "outputs": [
    {
     "data": {
      "text/plain": [
       "21"
      ]
     },
     "execution_count": 22,
     "metadata": {},
     "output_type": "execute_result"
    }
   ],
   "source": [
    "np.sum(matriz_np) # somando itens da matriz com numpy"
   ]
  },
  {
   "cell_type": "markdown",
   "id": "3f1c3c0b-271e-4f08-9be6-c1aa92d6df6c",
   "metadata": {},
   "source": [
    "## Criando um array de elementos dentro do range"
   ]
  },
  {
   "cell_type": "code",
   "execution_count": 25,
   "id": "69e1f654-f13c-4a00-ad84-524d6bd1f5f5",
   "metadata": {},
   "outputs": [
    {
     "data": {
      "text/plain": [
       "array([0, 1, 2, 3, 4, 5, 6, 7, 8, 9])"
      ]
     },
     "execution_count": 25,
     "metadata": {},
     "output_type": "execute_result"
    }
   ],
   "source": [
    "np.arange(0, 10) "
   ]
  },
  {
   "cell_type": "code",
   "execution_count": 27,
   "id": "5ffe5ff7-8645-456d-b237-ecbf3a192890",
   "metadata": {},
   "outputs": [
    {
     "data": {
      "text/plain": [
       "array([0, 2, 4, 6, 8])"
      ]
     },
     "execution_count": 27,
     "metadata": {},
     "output_type": "execute_result"
    }
   ],
   "source": [
    "np.arange(0,10,2) # criando sequencia ate o 10 indo de 2 em 2"
   ]
  },
  {
   "cell_type": "markdown",
   "id": "b42a06b9-fb12-47a1-8c15-e144415cadb4",
   "metadata": {},
   "source": [
    "## Arrays com 0"
   ]
  },
  {
   "cell_type": "code",
   "execution_count": 30,
   "id": "f89cc839-19e4-4a9d-a6d2-bbf53796c2c5",
   "metadata": {},
   "outputs": [
    {
     "data": {
      "text/plain": [
       "array([0., 0., 0.])"
      ]
     },
     "execution_count": 30,
     "metadata": {},
     "output_type": "execute_result"
    }
   ],
   "source": [
    "np.zeros(3) # Criando array com 3 zeros"
   ]
  },
  {
   "cell_type": "code",
   "execution_count": 32,
   "id": "8d1fe917-4b27-442f-93c1-e11bbdf36f02",
   "metadata": {},
   "outputs": [
    {
     "data": {
      "text/plain": [
       "array([[0., 0., 0., 0., 0.],\n",
       "       [0., 0., 0., 0., 0.],\n",
       "       [0., 0., 0., 0., 0.]])"
      ]
     },
     "execution_count": 32,
     "metadata": {},
     "output_type": "execute_result"
    }
   ],
   "source": [
    "np.zeros([3,5]) # criando matriz com 3 linhas e 5 colunas"
   ]
  },
  {
   "cell_type": "code",
   "execution_count": 34,
   "id": "6353886a-7185-4f3a-ac8e-509d55eab3f1",
   "metadata": {},
   "outputs": [
    {
     "data": {
      "text/plain": [
       "array([[[0., 0., 0.],\n",
       "        [0., 0., 0.],\n",
       "        [0., 0., 0.]],\n",
       "\n",
       "       [[0., 0., 0.],\n",
       "        [0., 0., 0.],\n",
       "        [0., 0., 0.]],\n",
       "\n",
       "       [[0., 0., 0.],\n",
       "        [0., 0., 0.],\n",
       "        [0., 0., 0.]]])"
      ]
     },
     "execution_count": 34,
     "metadata": {},
     "output_type": "execute_result"
    }
   ],
   "source": [
    "np.zeros([3,3,3])"
   ]
  },
  {
   "cell_type": "markdown",
   "id": "51de72cf-090d-4387-aae4-9d808738839c",
   "metadata": {},
   "source": [
    "## Criando matriz com 1"
   ]
  },
  {
   "cell_type": "code",
   "execution_count": 37,
   "id": "6573b5f2-245f-44c7-949d-583537f592af",
   "metadata": {},
   "outputs": [
    {
     "data": {
      "text/plain": [
       "array([1., 1., 1.])"
      ]
     },
     "execution_count": 37,
     "metadata": {},
     "output_type": "execute_result"
    }
   ],
   "source": [
    "np.ones(3)"
   ]
  },
  {
   "cell_type": "code",
   "execution_count": 39,
   "id": "b6ffd243-1dea-4240-b644-42f055cb8368",
   "metadata": {},
   "outputs": [
    {
     "data": {
      "text/plain": [
       "array([[1., 1.],\n",
       "       [1., 1.]])"
      ]
     },
     "execution_count": 39,
     "metadata": {},
     "output_type": "execute_result"
    }
   ],
   "source": [
    "np.ones([2,2])"
   ]
  },
  {
   "cell_type": "code",
   "execution_count": 41,
   "id": "067bb331-acfb-4130-b66f-b3dbe4e0ae7d",
   "metadata": {},
   "outputs": [
    {
     "data": {
      "text/plain": [
       "array([[[1., 1., 1., 1.],\n",
       "        [1., 1., 1., 1.],\n",
       "        [1., 1., 1., 1.],\n",
       "        [1., 1., 1., 1.]],\n",
       "\n",
       "       [[1., 1., 1., 1.],\n",
       "        [1., 1., 1., 1.],\n",
       "        [1., 1., 1., 1.],\n",
       "        [1., 1., 1., 1.]],\n",
       "\n",
       "       [[1., 1., 1., 1.],\n",
       "        [1., 1., 1., 1.],\n",
       "        [1., 1., 1., 1.],\n",
       "        [1., 1., 1., 1.]],\n",
       "\n",
       "       [[1., 1., 1., 1.],\n",
       "        [1., 1., 1., 1.],\n",
       "        [1., 1., 1., 1.],\n",
       "        [1., 1., 1., 1.]]])"
      ]
     },
     "execution_count": 41,
     "metadata": {},
     "output_type": "execute_result"
    }
   ],
   "source": [
    "np.ones([4,4,4])"
   ]
  },
  {
   "cell_type": "markdown",
   "id": "2be36e9f-eab7-4416-894c-d4f5813d6abb",
   "metadata": {},
   "source": [
    "## Criando a matriz identidade"
   ]
  },
  {
   "cell_type": "code",
   "execution_count": 44,
   "id": "975aa84a-7184-4b29-9f4f-238f837288c0",
   "metadata": {},
   "outputs": [
    {
     "data": {
      "text/plain": [
       "array([[1., 0., 0., 0.],\n",
       "       [0., 1., 0., 0.],\n",
       "       [0., 0., 1., 0.],\n",
       "       [0., 0., 0., 1.]])"
      ]
     },
     "execution_count": 44,
     "metadata": {},
     "output_type": "execute_result"
    }
   ],
   "source": [
    "np.eye(4) "
   ]
  },
  {
   "cell_type": "markdown",
   "id": "6cd6664b-91e6-442b-85cc-85b6e23ff74c",
   "metadata": {},
   "source": [
    "## Criando uma sequência de valores contínua igualmente espaçadas"
   ]
  },
  {
   "cell_type": "code",
   "execution_count": 47,
   "id": "ec74f361-1aa8-455b-a516-0f696cdc9742",
   "metadata": {},
   "outputs": [
    {
     "data": {
      "text/plain": [
       "array([  0.        ,   2.04081633,   4.08163265,   6.12244898,\n",
       "         8.16326531,  10.20408163,  12.24489796,  14.28571429,\n",
       "        16.32653061,  18.36734694,  20.40816327,  22.44897959,\n",
       "        24.48979592,  26.53061224,  28.57142857,  30.6122449 ,\n",
       "        32.65306122,  34.69387755,  36.73469388,  38.7755102 ,\n",
       "        40.81632653,  42.85714286,  44.89795918,  46.93877551,\n",
       "        48.97959184,  51.02040816,  53.06122449,  55.10204082,\n",
       "        57.14285714,  59.18367347,  61.2244898 ,  63.26530612,\n",
       "        65.30612245,  67.34693878,  69.3877551 ,  71.42857143,\n",
       "        73.46938776,  75.51020408,  77.55102041,  79.59183673,\n",
       "        81.63265306,  83.67346939,  85.71428571,  87.75510204,\n",
       "        89.79591837,  91.83673469,  93.87755102,  95.91836735,\n",
       "        97.95918367, 100.        ])"
      ]
     },
     "execution_count": 47,
     "metadata": {},
     "output_type": "execute_result"
    }
   ],
   "source": [
    "np.linspace(0, 100, 50)"
   ]
  },
  {
   "cell_type": "markdown",
   "id": "eeeca417-9d83-4067-8b2c-7e7f074efacb",
   "metadata": {},
   "source": [
    "## Valores aleatorios entre 0 e 1"
   ]
  },
  {
   "cell_type": "code",
   "execution_count": 52,
   "id": "7f40a0de-22e5-437b-838f-e52a644d4b4d",
   "metadata": {},
   "outputs": [
    {
     "data": {
      "text/plain": [
       "array([60.17509466, 43.27402008, 41.84059629, 42.60979149, 18.90268918])"
      ]
     },
     "execution_count": 52,
     "metadata": {},
     "output_type": "execute_result"
    }
   ],
   "source": [
    "np.random.random(5) * 100"
   ]
  },
  {
   "cell_type": "code",
   "execution_count": 54,
   "id": "a5c28b70-00d4-4a6d-8553-1b206a8f8ac2",
   "metadata": {},
   "outputs": [
    {
     "data": {
      "text/plain": [
       "array([[17.54954848, 14.0376213 , 30.26764008,  9.46831335, 64.21665678],\n",
       "       [40.30105362, 25.79570673, 96.55667436,  3.47917535, 21.90708921]])"
      ]
     },
     "execution_count": 54,
     "metadata": {},
     "output_type": "execute_result"
    }
   ],
   "source": [
    "np.random.random([2, 5]) * 100 # Gera um array de 2 linhas 5 colunas com um intervalo de 0 a 100"
   ]
  },
  {
   "cell_type": "markdown",
   "id": "b1ddee98-8958-4925-b900-a07ddbca40df",
   "metadata": {},
   "source": [
    "## Método reshape"
   ]
  },
  {
   "cell_type": "code",
   "execution_count": 57,
   "id": "57e93ac9-62c5-49bf-9781-6fa68f93fd93",
   "metadata": {},
   "outputs": [
    {
     "data": {
      "text/plain": [
       "array([0., 0., 0., 0.])"
      ]
     },
     "execution_count": 57,
     "metadata": {},
     "output_type": "execute_result"
    }
   ],
   "source": [
    "np.zeros(4)"
   ]
  },
  {
   "cell_type": "code",
   "execution_count": 59,
   "id": "6ddc94b1-fdd3-43d9-881d-f36f17705158",
   "metadata": {},
   "outputs": [],
   "source": [
    "array = np.zeros(4)"
   ]
  },
  {
   "cell_type": "code",
   "execution_count": 61,
   "id": "928191f8-b6ea-489f-8ddc-1735d11059ca",
   "metadata": {},
   "outputs": [
    {
     "data": {
      "text/plain": [
       "array([0., 0., 0., 0.])"
      ]
     },
     "execution_count": 61,
     "metadata": {},
     "output_type": "execute_result"
    }
   ],
   "source": [
    "array"
   ]
  },
  {
   "cell_type": "code",
   "execution_count": 65,
   "id": "c407e523-9ebd-49d3-b90f-67dd97f56d59",
   "metadata": {},
   "outputs": [
    {
     "data": {
      "text/plain": [
       "(4,)"
      ]
     },
     "execution_count": 65,
     "metadata": {},
     "output_type": "execute_result"
    }
   ],
   "source": [
    "array.shape"
   ]
  },
  {
   "cell_type": "code",
   "execution_count": 69,
   "id": "39082cfe-58ce-4fa2-96b5-56975727f00d",
   "metadata": {},
   "outputs": [
    {
     "data": {
      "text/plain": [
       "array([[0., 0.],\n",
       "       [0., 0.]])"
      ]
     },
     "execution_count": 69,
     "metadata": {},
     "output_type": "execute_result"
    }
   ],
   "source": [
    "array.reshape([2, 2]) "
   ]
  }
 ],
 "metadata": {
  "kernelspec": {
   "display_name": "Python 3 (ipykernel)",
   "language": "python",
   "name": "python3"
  },
  "language_info": {
   "codemirror_mode": {
    "name": "ipython",
    "version": 3
   },
   "file_extension": ".py",
   "mimetype": "text/x-python",
   "name": "python",
   "nbconvert_exporter": "python",
   "pygments_lexer": "ipython3",
   "version": "3.12.4"
  }
 },
 "nbformat": 4,
 "nbformat_minor": 5
}
