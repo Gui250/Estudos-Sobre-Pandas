{
 "cells": [
  {
   "cell_type": "markdown",
   "id": "978297e4-eaeb-4804-b0cc-b4353adaa718",
   "metadata": {},
   "source": [
    "# Dataframes"
   ]
  },
  {
   "cell_type": "code",
   "execution_count": 5,
   "id": "30157add-ef4d-4219-90d5-ee63043fd52c",
   "metadata": {},
   "outputs": [],
   "source": [
    "from numpy.random import randn\n",
    "import pandas as pd"
   ]
  },
  {
   "cell_type": "code",
   "execution_count": 11,
   "id": "bad5d8c0-b09f-4df1-b3a4-07b37af0ca40",
   "metadata": {},
   "outputs": [],
   "source": [
    "df = pd.DataFrame(randn(5, 4), index=[\"A\", \"B\", \"C\", \"D\", \"E\"], columns=\"W X Y Z\".split()) "
   ]
  },
  {
   "cell_type": "code",
   "execution_count": 13,
   "id": "6ee5a474-8f0c-4406-b221-62532691edae",
   "metadata": {},
   "outputs": [
    {
     "data": {
      "text/plain": [
       "pandas.core.frame.DataFrame"
      ]
     },
     "execution_count": 13,
     "metadata": {},
     "output_type": "execute_result"
    }
   ],
   "source": [
    "type(df) "
   ]
  },
  {
   "cell_type": "code",
   "execution_count": 17,
   "id": "8f3e664a-90be-40de-8bde-ee3dc18b1dd8",
   "metadata": {},
   "outputs": [
    {
     "data": {
      "text/html": [
       "<div>\n",
       "<style scoped>\n",
       "    .dataframe tbody tr th:only-of-type {\n",
       "        vertical-align: middle;\n",
       "    }\n",
       "\n",
       "    .dataframe tbody tr th {\n",
       "        vertical-align: top;\n",
       "    }\n",
       "\n",
       "    .dataframe thead th {\n",
       "        text-align: right;\n",
       "    }\n",
       "</style>\n",
       "<table border=\"1\" class=\"dataframe\">\n",
       "  <thead>\n",
       "    <tr style=\"text-align: right;\">\n",
       "      <th></th>\n",
       "      <th>W</th>\n",
       "    </tr>\n",
       "  </thead>\n",
       "  <tbody>\n",
       "    <tr>\n",
       "      <th>A</th>\n",
       "      <td>1.828372</td>\n",
       "    </tr>\n",
       "    <tr>\n",
       "      <th>B</th>\n",
       "      <td>-0.532891</td>\n",
       "    </tr>\n",
       "    <tr>\n",
       "      <th>C</th>\n",
       "      <td>1.023312</td>\n",
       "    </tr>\n",
       "    <tr>\n",
       "      <th>D</th>\n",
       "      <td>0.370217</td>\n",
       "    </tr>\n",
       "    <tr>\n",
       "      <th>E</th>\n",
       "      <td>-0.079927</td>\n",
       "    </tr>\n",
       "  </tbody>\n",
       "</table>\n",
       "</div>"
      ],
      "text/plain": [
       "          W\n",
       "A  1.828372\n",
       "B -0.532891\n",
       "C  1.023312\n",
       "D  0.370217\n",
       "E -0.079927"
      ]
     },
     "execution_count": 17,
     "metadata": {},
     "output_type": "execute_result"
    }
   ],
   "source": [
    "df[['W']] # devolvendo a series em formato dataframe"
   ]
  },
  {
   "cell_type": "code",
   "execution_count": 29,
   "id": "53d1ac92-9a80-4cbe-a2c1-ef8968099e2d",
   "metadata": {},
   "outputs": [
    {
     "data": {
      "text/html": [
       "<div>\n",
       "<style scoped>\n",
       "    .dataframe tbody tr th:only-of-type {\n",
       "        vertical-align: middle;\n",
       "    }\n",
       "\n",
       "    .dataframe tbody tr th {\n",
       "        vertical-align: top;\n",
       "    }\n",
       "\n",
       "    .dataframe thead th {\n",
       "        text-align: right;\n",
       "    }\n",
       "</style>\n",
       "<table border=\"1\" class=\"dataframe\">\n",
       "  <thead>\n",
       "    <tr style=\"text-align: right;\">\n",
       "      <th></th>\n",
       "      <th>W</th>\n",
       "      <th>X</th>\n",
       "      <th>Y</th>\n",
       "      <th>Z</th>\n",
       "      <th>new</th>\n",
       "    </tr>\n",
       "  </thead>\n",
       "  <tbody>\n",
       "    <tr>\n",
       "      <th>A</th>\n",
       "      <td>1.828372</td>\n",
       "      <td>-1.004173</td>\n",
       "      <td>0.228854</td>\n",
       "      <td>1.965662</td>\n",
       "      <td>2.057226</td>\n",
       "    </tr>\n",
       "    <tr>\n",
       "      <th>B</th>\n",
       "      <td>-0.532891</td>\n",
       "      <td>0.110008</td>\n",
       "      <td>0.655576</td>\n",
       "      <td>0.618949</td>\n",
       "      <td>0.122685</td>\n",
       "    </tr>\n",
       "    <tr>\n",
       "      <th>C</th>\n",
       "      <td>1.023312</td>\n",
       "      <td>1.174057</td>\n",
       "      <td>0.474918</td>\n",
       "      <td>-1.528904</td>\n",
       "      <td>1.498230</td>\n",
       "    </tr>\n",
       "    <tr>\n",
       "      <th>D</th>\n",
       "      <td>0.370217</td>\n",
       "      <td>-1.000574</td>\n",
       "      <td>-0.829447</td>\n",
       "      <td>-0.423803</td>\n",
       "      <td>-0.459231</td>\n",
       "    </tr>\n",
       "    <tr>\n",
       "      <th>E</th>\n",
       "      <td>-0.079927</td>\n",
       "      <td>0.161314</td>\n",
       "      <td>-0.971473</td>\n",
       "      <td>1.079347</td>\n",
       "      <td>-1.051400</td>\n",
       "    </tr>\n",
       "  </tbody>\n",
       "</table>\n",
       "</div>"
      ],
      "text/plain": [
       "          W         X         Y         Z       new\n",
       "A  1.828372 -1.004173  0.228854  1.965662  2.057226\n",
       "B -0.532891  0.110008  0.655576  0.618949  0.122685\n",
       "C  1.023312  1.174057  0.474918 -1.528904  1.498230\n",
       "D  0.370217 -1.000574 -0.829447 -0.423803 -0.459231\n",
       "E -0.079927  0.161314 -0.971473  1.079347 -1.051400"
      ]
     },
     "execution_count": 29,
     "metadata": {},
     "output_type": "execute_result"
    }
   ],
   "source": [
    "df[\"new\"] = df[\"W\"] + df[\"Y\"]\n",
    "df"
   ]
  },
  {
   "cell_type": "code",
   "execution_count": 27,
   "id": "47b965a0-a787-42cd-8ea6-3251619733ec",
   "metadata": {},
   "outputs": [
    {
     "data": {
      "text/html": [
       "<div>\n",
       "<style scoped>\n",
       "    .dataframe tbody tr th:only-of-type {\n",
       "        vertical-align: middle;\n",
       "    }\n",
       "\n",
       "    .dataframe tbody tr th {\n",
       "        vertical-align: top;\n",
       "    }\n",
       "\n",
       "    .dataframe thead th {\n",
       "        text-align: right;\n",
       "    }\n",
       "</style>\n",
       "<table border=\"1\" class=\"dataframe\">\n",
       "  <thead>\n",
       "    <tr style=\"text-align: right;\">\n",
       "      <th></th>\n",
       "      <th>W</th>\n",
       "      <th>X</th>\n",
       "      <th>Y</th>\n",
       "      <th>Z</th>\n",
       "    </tr>\n",
       "  </thead>\n",
       "  <tbody>\n",
       "    <tr>\n",
       "      <th>A</th>\n",
       "      <td>1.828372</td>\n",
       "      <td>-1.004173</td>\n",
       "      <td>0.228854</td>\n",
       "      <td>1.965662</td>\n",
       "    </tr>\n",
       "    <tr>\n",
       "      <th>B</th>\n",
       "      <td>-0.532891</td>\n",
       "      <td>0.110008</td>\n",
       "      <td>0.655576</td>\n",
       "      <td>0.618949</td>\n",
       "    </tr>\n",
       "    <tr>\n",
       "      <th>C</th>\n",
       "      <td>1.023312</td>\n",
       "      <td>1.174057</td>\n",
       "      <td>0.474918</td>\n",
       "      <td>-1.528904</td>\n",
       "    </tr>\n",
       "    <tr>\n",
       "      <th>D</th>\n",
       "      <td>0.370217</td>\n",
       "      <td>-1.000574</td>\n",
       "      <td>-0.829447</td>\n",
       "      <td>-0.423803</td>\n",
       "    </tr>\n",
       "    <tr>\n",
       "      <th>E</th>\n",
       "      <td>-0.079927</td>\n",
       "      <td>0.161314</td>\n",
       "      <td>-0.971473</td>\n",
       "      <td>1.079347</td>\n",
       "    </tr>\n",
       "  </tbody>\n",
       "</table>\n",
       "</div>"
      ],
      "text/plain": [
       "          W         X         Y         Z\n",
       "A  1.828372 -1.004173  0.228854  1.965662\n",
       "B -0.532891  0.110008  0.655576  0.618949\n",
       "C  1.023312  1.174057  0.474918 -1.528904\n",
       "D  0.370217 -1.000574 -0.829447 -0.423803\n",
       "E -0.079927  0.161314 -0.971473  1.079347"
      ]
     },
     "execution_count": 27,
     "metadata": {},
     "output_type": "execute_result"
    }
   ],
   "source": [
    "df.drop(\"new\", axis=1) # axis = 1 === coluna, axis = 0 === linha"
   ]
  },
  {
   "cell_type": "code",
   "execution_count": 31,
   "id": "db7a15de-cbad-480a-94ff-60a005c8c22d",
   "metadata": {},
   "outputs": [],
   "source": [
    "df.drop(\"new\", axis=1, inplace=True) # Altera o dataframe original"
   ]
  },
  {
   "cell_type": "code",
   "execution_count": 33,
   "id": "2ab31bfb-7269-4008-9385-a9eef726d0a3",
   "metadata": {},
   "outputs": [
    {
     "data": {
      "text/html": [
       "<div>\n",
       "<style scoped>\n",
       "    .dataframe tbody tr th:only-of-type {\n",
       "        vertical-align: middle;\n",
       "    }\n",
       "\n",
       "    .dataframe tbody tr th {\n",
       "        vertical-align: top;\n",
       "    }\n",
       "\n",
       "    .dataframe thead th {\n",
       "        text-align: right;\n",
       "    }\n",
       "</style>\n",
       "<table border=\"1\" class=\"dataframe\">\n",
       "  <thead>\n",
       "    <tr style=\"text-align: right;\">\n",
       "      <th></th>\n",
       "      <th>W</th>\n",
       "      <th>X</th>\n",
       "      <th>Y</th>\n",
       "      <th>Z</th>\n",
       "    </tr>\n",
       "  </thead>\n",
       "  <tbody>\n",
       "    <tr>\n",
       "      <th>A</th>\n",
       "      <td>1.828372</td>\n",
       "      <td>-1.004173</td>\n",
       "      <td>0.228854</td>\n",
       "      <td>1.965662</td>\n",
       "    </tr>\n",
       "    <tr>\n",
       "      <th>B</th>\n",
       "      <td>-0.532891</td>\n",
       "      <td>0.110008</td>\n",
       "      <td>0.655576</td>\n",
       "      <td>0.618949</td>\n",
       "    </tr>\n",
       "    <tr>\n",
       "      <th>C</th>\n",
       "      <td>1.023312</td>\n",
       "      <td>1.174057</td>\n",
       "      <td>0.474918</td>\n",
       "      <td>-1.528904</td>\n",
       "    </tr>\n",
       "    <tr>\n",
       "      <th>D</th>\n",
       "      <td>0.370217</td>\n",
       "      <td>-1.000574</td>\n",
       "      <td>-0.829447</td>\n",
       "      <td>-0.423803</td>\n",
       "    </tr>\n",
       "    <tr>\n",
       "      <th>E</th>\n",
       "      <td>-0.079927</td>\n",
       "      <td>0.161314</td>\n",
       "      <td>-0.971473</td>\n",
       "      <td>1.079347</td>\n",
       "    </tr>\n",
       "  </tbody>\n",
       "</table>\n",
       "</div>"
      ],
      "text/plain": [
       "          W         X         Y         Z\n",
       "A  1.828372 -1.004173  0.228854  1.965662\n",
       "B -0.532891  0.110008  0.655576  0.618949\n",
       "C  1.023312  1.174057  0.474918 -1.528904\n",
       "D  0.370217 -1.000574 -0.829447 -0.423803\n",
       "E -0.079927  0.161314 -0.971473  1.079347"
      ]
     },
     "execution_count": 33,
     "metadata": {},
     "output_type": "execute_result"
    }
   ],
   "source": [
    "df"
   ]
  },
  {
   "cell_type": "code",
   "execution_count": 37,
   "id": "f824e819-4b1e-4d58-a132-4fadfa1e86f9",
   "metadata": {},
   "outputs": [
    {
     "data": {
      "text/html": [
       "<div>\n",
       "<style scoped>\n",
       "    .dataframe tbody tr th:only-of-type {\n",
       "        vertical-align: middle;\n",
       "    }\n",
       "\n",
       "    .dataframe tbody tr th {\n",
       "        vertical-align: top;\n",
       "    }\n",
       "\n",
       "    .dataframe thead th {\n",
       "        text-align: right;\n",
       "    }\n",
       "</style>\n",
       "<table border=\"1\" class=\"dataframe\">\n",
       "  <thead>\n",
       "    <tr style=\"text-align: right;\">\n",
       "      <th></th>\n",
       "      <th>W</th>\n",
       "      <th>X</th>\n",
       "      <th>Y</th>\n",
       "      <th>Z</th>\n",
       "    </tr>\n",
       "  </thead>\n",
       "  <tbody>\n",
       "    <tr>\n",
       "      <th>A</th>\n",
       "      <td>1.828372</td>\n",
       "      <td>-1.004173</td>\n",
       "      <td>0.228854</td>\n",
       "      <td>1.965662</td>\n",
       "    </tr>\n",
       "  </tbody>\n",
       "</table>\n",
       "</div>"
      ],
      "text/plain": [
       "          W         X         Y         Z\n",
       "A  1.828372 -1.004173  0.228854  1.965662"
      ]
     },
     "execution_count": 37,
     "metadata": {},
     "output_type": "execute_result"
    }
   ],
   "source": [
    "df.loc[['A']] # procurando por a nas linhas"
   ]
  },
  {
   "cell_type": "code",
   "execution_count": 39,
   "id": "a575bd4c-fa8f-4dcf-a1f1-7dee81106465",
   "metadata": {},
   "outputs": [
    {
     "data": {
      "text/plain": [
       "0.22885399478340052"
      ]
     },
     "execution_count": 39,
     "metadata": {},
     "output_type": "execute_result"
    }
   ],
   "source": [
    "df.iloc[0, 2]"
   ]
  }
 ],
 "metadata": {
  "kernelspec": {
   "display_name": "Python 3 (ipykernel)",
   "language": "python",
   "name": "python3"
  },
  "language_info": {
   "codemirror_mode": {
    "name": "ipython",
    "version": 3
   },
   "file_extension": ".py",
   "mimetype": "text/x-python",
   "name": "python",
   "nbconvert_exporter": "python",
   "pygments_lexer": "ipython3",
   "version": "3.12.4"
  }
 },
 "nbformat": 4,
 "nbformat_minor": 5
}
